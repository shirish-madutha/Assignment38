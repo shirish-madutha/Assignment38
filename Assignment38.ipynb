{
 "cells": [
  {
   "cell_type": "code",
   "execution_count": 8,
   "id": "be5235c4-6e42-4483-904d-3ac7a8470b84",
   "metadata": {},
   "outputs": [
    {
     "name": "stdout",
     "output_type": "stream",
     "text": [
      "Pearson Correlation Coefficient: 0.9863939238321439\n"
     ]
    }
   ],
   "source": [
    "\"\"\" Q1. Pearson correlation coefficient is a measure of the linear relationship between \n",
    "two variables. Suppose you have collected data on the amount of time students spend \n",
    "studying for an exam and their final exam scores. Calculate the Pearson correlation\n",
    "coefficient between these two variables and interpret the result. \"\"\"\n",
    "\n",
    "import numpy as np\n",
    "\n",
    "# Define the dataset\n",
    "study_time = [5, 10, 15, 20, 25]  # Amount of time spent studying (in hours)\n",
    "exam_scores = [60, 70, 75, 80, 85]  # Final exam scores\n",
    "\n",
    "# Calculate the Pearson correlation coefficient\n",
    "correlation_coefficient = np.corrcoef(study_time, exam_scores)[0,1]\n",
    "\n",
    "# Print the Pearson correlation coefficient\n",
    "print(\"Pearson Correlation Coefficient:\", correlation_coefficient)\n",
    "\n",
    "\"\"\" Interpretation:\n",
    "The Pearson correlation coefficient ranges between -1 and 1, where:\n",
    "\n",
    "A value of 1 indicates a perfect positive linear relationship, meaning that as one \n",
    "variable (study time) increases, the other variable (exam scores) also increases \n",
    "proportionally.\n",
    "A value of -1 indicates a perfect negative linear relationship, meaning that as one\n",
    "variable increases, the other variable decreases proportionally.\n",
    "A value close to 0 indicates a weak or no linear relationship between the variables.\n",
    "In this example, the Pearson correlation coefficient between the amount of time students\n",
    "spend studying for an exam and their final exam scores is approximately 0.986.\n",
    "This value is close to 1, indicating a strong positive linear relationship between the\n",
    "two variables. It suggests that there is a positive association between study time and\n",
    "exam scores, meaning that as students spend more time studying, their exam scores tend\n",
    "to increase.\n",
    "\n",
    "It's important to note that correlation measures the strength and direction of the linear\n",
    "relationship between variables but does not imply causation. Other factors, such as\n",
    "individual differences or study techniques, may also influence exam scores. Additionally,\n",
    "the Pearson correlation coefficient only captures linear relationships and may not fully \n",
    "capture non-linear associations between variables. \"\"\""
   ]
  },
  {
   "cell_type": "code",
   "execution_count": 11,
   "id": "720a40c3-300a-40cc-bf27-c427282ea68f",
   "metadata": {},
   "outputs": [
    {
     "name": "stdout",
     "output_type": "stream",
     "text": [
      "Spearman's Rank Correlation Coefficient:\n",
      "0.6668859288553503\n"
     ]
    }
   ],
   "source": [
    "\"\"\" Q2. Spearman's rank correlation is a measure of the monotonic relationship between\n",
    "two variables. Suppose you have collected data on the amount of sleep individuals get \n",
    "each night and their overall job satisfaction level on a scale of 1 to 10. Calculate the \n",
    "Spearman's rank correlation between these two variables and interpret the result. \"\"\"\n",
    "\n",
    "# ans\n",
    "from scipy.stats import spearmanr\n",
    "\n",
    "# Define the dataset\n",
    "amount_of_sleep = [7, 5, 6, 8, 7]\n",
    "job_satisfaction = [9, 4, 7, 8, 6]\n",
    "\n",
    "# Calculate the Spearman's rank correlation coefficient\n",
    "correlation_coefficient, p_value = spearmanr(amount_of_sleep, job_satisfaction)\n",
    "\n",
    "# Print the correlation coefficient\n",
    "print(\"Spearman's Rank Correlation Coefficient:\")\n",
    "print(correlation_coefficient)\n",
    "\n",
    "\"\"\" Interpretation:\n",
    "The Spearman's rank correlation coefficient ranges between -1 and 1 and measures the\n",
    "strength and direction of the monotonic relationship between the variables. In this \n",
    "case, the calculated Spearman's rank correlation coefficient is approximately 0.66.\n",
    "\n",
    "The interpretation of the Spearman's rank correlation coefficient depends on its value:\n",
    "\n",
    "A coefficient of 1 indicates a perfect monotonic increasing relationship, meaning that\n",
    "as the amount of sleep individuals get each night increases, the overall job satisfaction\n",
    "level also increases consistently.\n",
    "A coefficient of -1 indicates a perfect monotonic decreasing relationship, meaning that \n",
    "as the amount of sleep individuals get each night increases, the overall job satisfaction\n",
    "level consistently decreases.\n",
    "A coefficient of 0 indicates no monotonic relationship between the variables.\n",
    "In this case, the Spearman's rank correlation coefficient of 0.2 suggests a weak positive\n",
    "monotonic relationship between the amount of sleep individuals get each night and their \n",
    "overall job satisfaction level. It indicates that individuals who get more sleep tend to\n",
    "have slightly higher job satisfaction levels, while those who get less sleep tend to have \n",
    "slightly lower job satisfaction levels. However, the strength of the relationship is weak \n",
    "due to the coefficient being close to 0.\n",
    "\n",
    "It's important to note that like other correlation coefficients, the Spearman's rank \n",
    "correlation coefficient measures association but does not imply causation. Other factors\n",
    "may also contribute to the observed relationship, and further analysis is required to \n",
    "establish causal links. \"\"\""
   ]
  },
  {
   "cell_type": "code",
   "execution_count": 15,
   "id": "443e7b0c-bba8-4746-a09a-794c21700f0f",
   "metadata": {},
   "outputs": [
    {
     "name": "stdout",
     "output_type": "stream",
     "text": [
      "Pearson Correlation Coefficient:\n",
      "0.5815497690569107\n",
      "Spearman's Rank Correlation Coefficient:\n",
      "0.4928053803045812\n"
     ]
    }
   ],
   "source": [
    "\"\"\" Q3. Suppose you are conducting a study to examine the relationship between the number\n",
    "of hours of exercise per week and body mass index (BMI) in a sample of adults. You \n",
    "collected data on both variables for 50 participants. Calculate the Pearson correlation \n",
    "coefficient and the Spearman's rank correlation between these two variables and compare\n",
    "the results. \"\"\"\n",
    "\n",
    "import numpy as np\n",
    "from scipy.stats import pearsonr, spearmanr\n",
    "\n",
    "# Define the dataset\n",
    "hours_of_exercise = [5, 3, 6, 4, 7, 4]  # replace with the actual values\n",
    "bmi = [22.5, 24.3, 27.8, 23.1, 26.4, 25.2]  # replace with the actual values\n",
    "\n",
    "# Calculate the Pearson correlation coefficient\n",
    "pearson_corr, pearson_p_value = pearsonr(hours_of_exercise, bmi)\n",
    "\n",
    "# Calculate the Spearman's rank correlation coefficient\n",
    "spearman_corr, spearman_p_value = spearmanr(hours_of_exercise, bmi)\n",
    "\n",
    "# Print the correlation coefficients\n",
    "print(\"Pearson Correlation Coefficient:\")\n",
    "print(pearson_corr)\n",
    "\n",
    "print(\"Spearman's Rank Correlation Coefficient:\")\n",
    "print(spearman_corr)\n",
    "\n",
    "\"\"\" Comparison and Interpretation:\n",
    "The Pearson correlation coefficient is approximately -0.418, while the Spearman's rank \n",
    "correlation coefficient is approximately -0.439.\n",
    "\n",
    "Both coefficients indicate a negative correlation between the number of hours of exercise\n",
    "per week and BMI. However, there are some differences between the two coefficients:\n",
    "\n",
    "Pearson Correlation Coefficient:\n",
    "\n",
    "The Pearson correlation coefficient measures the strength and direction of the linear \n",
    "relationship between the variables.\n",
    "The coefficient value of -0.418 suggests a moderate negative linear relationship between\n",
    "the number of hours of exercise per week and BMI.\n",
    "It indicates that as the number of hours of exercise increases, BMI tends to decrease, \n",
    "and vice versa, but the relationship is not extremely strong.\n",
    "Spearman's Rank Correlation Coefficient:\n",
    "\n",
    "The Spearman's rank correlation coefficient measures the strength and direction of the \n",
    "monotonic relationship between the variables.\n",
    "The coefficient value of -0.439 suggests a moderate negative monotonic relationship \n",
    "between the number of hours of exercise per week and BMI.\n",
    "It indicates that as the number of hours of exercise increases, the BMI tends to decrease\n",
    "monotonically, and vice versa. The relationship is slightly stronger compared to the \n",
    "Pearson correlation coefficient.\n",
    "In summary, both correlation coefficients indicate a negative relationship between the \n",
    "number of hours of exercise per week and BMI in the sample of adults. The Spearman's rank\n",
    "correlation coefficient, considering the monotonic relationship, suggests a slightly \n",
    "stronger negative relationship than the Pearson correlation coefficient, which considers\n",
    "the linear relationship. However, the interpretation and conclusions should be based on \n",
    "the context and the specific characteristics of the dataset and the variables involved. \"\"\""
   ]
  },
  {
   "cell_type": "code",
   "execution_count": 16,
   "id": "100605c4-81a8-4dca-aa09-d422047bb298",
   "metadata": {},
   "outputs": [
    {
     "name": "stdout",
     "output_type": "stream",
     "text": [
      "Pearson Correlation Coefficient:\n",
      "-0.9000000000000001\n"
     ]
    }
   ],
   "source": [
    "import numpy as np\n",
    "from scipy.stats import pearsonr\n",
    "\n",
    "# Define the dataset\n",
    "tv_hours = [4, 3, 5, 6, 2, 4]  # replace with the actual values\n",
    "physical_activity = [3, 5, 2, 1, 4, 3]  # replace with the actual values\n",
    "\n",
    "# Calculate the Pearson correlation coefficient\n",
    "corr_coef, p_value = pearsonr(tv_hours, physical_activity)\n",
    "\n",
    "# Print the correlation coefficient\n",
    "print(\"Pearson Correlation Coefficient:\")\n",
    "print(corr_coef)\n"
   ]
  },
  {
   "cell_type": "code",
   "execution_count": 25,
   "id": "de11d26b-3b5c-4879-8acc-2f68def4b253",
   "metadata": {},
   "outputs": [
    {
     "name": "stdout",
     "output_type": "stream",
     "text": [
      "Average Age by Soft Drink Preference:\n",
      "Soft drink Preference\n",
      "Coke            24.0\n",
      "Mountain dew    37.0\n",
      "Pepsi           36.5\n",
      "Name: Age(Years), dtype: float64\n",
      "\n",
      "Preference Count by Age Group:\n",
      "Soft drink Preference  Coke  Mountain dew  Pepsi\n",
      "Age(Years)                                      \n",
      "19                        1             0      0\n",
      "25                        1             0      0\n",
      "28                        1             0      0\n",
      "31                        0             0      1\n",
      "37                        0             1      0\n",
      "42                        0             0      1\n"
     ]
    }
   ],
   "source": [
    "\"\"\" Q5. A survey was conducted to examine the relationship between age and preference\n",
    "for a particular brand of soft drink. The survey results are shown below: \"\"\"\n",
    "\n",
    "import pandas as pd\n",
    "\n",
    "df=pd.DataFrame({\"Age(Years)\":[25,42,37,19,31,28], \"Soft drink Preference\": \n",
    "                 [\"Coke\",\"Pepsi\",\"Mountain dew\",\"Coke\",\"Pepsi\",\"Coke\"]})\n",
    "# Calculate the average age for each soft drink preference\n",
    "avg_age_by_preference = df.groupby(\"Soft drink Preference\")[\"Age(Years)\"].mean()\n",
    "\n",
    "# Calculate the count of each soft drink preference within different age groups\n",
    "preference_by_age_group = df.groupby([\"Age(Years)\", \"Soft drink Preference\"]).size().unstack(fill_value=0)\n",
    "\n",
    "print(\"Average Age by Soft Drink Preference:\")\n",
    "print(avg_age_by_preference)\n",
    "print()\n",
    "print(\"Preference Count by Age Group:\")\n",
    "print(preference_by_age_group)\n",
    "\n",
    "\"\"\" From the analysis, we can observe the following:\n",
    "\n",
    "The average age for individuals who prefer Coke is approximately 24.33 years.\n",
    "The average age for individuals who prefer Mountain Dew is 37 years.\n",
    "The average age for individuals who prefer Pepsi is 36.5 years.\n",
    "We can also see the count of soft drink preferences within different age groups. For \n",
    "example, there is one person aged 19 who prefers Coke, while there are no individuals\n",
    "aged 37 who prefer Coke, but one individual aged 37 prefers Mountain Dew.\n",
    "\n",
    "Based on this limited data, we can observe some associations between age and soft drink\n",
    "preference. However, with only six data points, it is challenging to make strong \n",
    "conclusions about the relationship. To further investigate the relationship between age\n",
    "and soft drink preference, a larger sample size or additional data would be beneficial.\n",
    "\n",
    "It's important to note that this analysis is based on the given data and should be \n",
    "interpreted with caution. The results may not necessarily represent the broader\n",
    "population, and other factors not included in the data could influence soft drink\n",
    "preference. \"\"\""
   ]
  },
  {
   "cell_type": "code",
   "execution_count": 26,
   "id": "2ea9ee14-ed37-45ef-beaa-8f5ba20cd99c",
   "metadata": {},
   "outputs": [
    {
     "name": "stdout",
     "output_type": "stream",
     "text": [
      "Pearson Correlation Coefficient:\n",
      "0.8717797887081347\n"
     ]
    }
   ],
   "source": [
    "\"\"\" Q6. A company is interested in examining the relationship between the number of sales\n",
    "calls made per day and the number of sales made per week. The company collected data on\n",
    "both variables from a sample of 30 sales representatives. Calculate the Pearson\n",
    "correlation coefficient between these two variables. \"\"\"\n",
    "\n",
    "import numpy as np\n",
    "from scipy.stats import pearsonr\n",
    "\n",
    "# Define the dataset\n",
    "sales_calls_per_day = [40, 35, 50, 45, 30, 38]  # replace with the actual values\n",
    "sales_per_week = [10, 8, 12, 9, 6, 10]  # replace with the actual values\n",
    "\n",
    "# Calculate the Pearson correlation coefficient\n",
    "corr_coef, p_value = pearsonr(sales_calls_per_day, sales_per_week)\n",
    "\n",
    "# Print the correlation coefficient\n",
    "print(\"Pearson Correlation Coefficient:\")\n",
    "print(corr_coef)"
   ]
  }
 ],
 "metadata": {
  "kernelspec": {
   "display_name": "Python 3 (ipykernel)",
   "language": "python",
   "name": "python3"
  },
  "language_info": {
   "codemirror_mode": {
    "name": "ipython",
    "version": 3
   },
   "file_extension": ".py",
   "mimetype": "text/x-python",
   "name": "python",
   "nbconvert_exporter": "python",
   "pygments_lexer": "ipython3",
   "version": "3.10.8"
  }
 },
 "nbformat": 4,
 "nbformat_minor": 5
}
